{
 "cells": [
  {
   "cell_type": "markdown",
   "metadata": {
    "id": "mYSLvRgB3Sel"
   },
   "source": [
    "Importing the Dependencies"
   ]
  },
  {
   "cell_type": "code",
   "execution_count": null,
   "metadata": {
    "id": "cbE3ZjDb23el"
   },
   "outputs": [],
   "source": [
    "import numpy as np\n",
    "import pandas as pd\n",
    "from sklearn.model_selection import train_test_split\n",
    "from sklearn.linear_model import LogisticRegression\n",
    "from sklearn.metrics import accuracy_score"
   ]
  },
  {
   "cell_type": "markdown",
   "metadata": {
    "id": "AsjOGx9pOgbX"
   },
   "source": [
    "Data Collection and Data Processing"
   ]
  },
  {
   "cell_type": "code",
   "execution_count": null,
   "metadata": {
    "id": "7ymxgj2i3RwO"
   },
   "outputs": [],
   "source": [
    "#loading the dataset to a pandas Dataframe\n",
    "sonar_data = pd.read_csv('/content/sonar data.csv', header=None)"
   ]
  },
  {
   "cell_type": "code",
   "execution_count": null,
   "metadata": {
    "colab": {
     "base_uri": "https://localhost:8080/",
     "height": 218
    },
    "executionInfo": {
     "elapsed": 1099,
     "status": "ok",
     "timestamp": 1612104059595,
     "user": {
      "displayName": "Siddhardhan",
      "photoUrl": "https://lh3.googleusercontent.com/a-/AOh14GgqRdQ43kir6S1fXaeD1rhkAf0yZboeNqZEAcqh=s64",
      "userId": "07040451508872554906"
     },
     "user_tz": -330
    },
    "id": "I5iWxSnM42fl",
    "outputId": "1b2221d0-dd71-40b2-c7fc-272017ea53f7"
   },
   "outputs": [],
   "source": [
    "sonar_data.head()"
   ]
  },
  {
   "cell_type": "code",
   "execution_count": null,
   "metadata": {
    "colab": {
     "base_uri": "https://localhost:8080/"
    },
    "executionInfo": {
     "elapsed": 524,
     "status": "ok",
     "timestamp": 1689497773116,
     "user": {
      "displayName": "Krishna",
      "userId": "00979571457074635030"
     },
     "user_tz": -330
    },
    "id": "WN_FI_eN48V_",
    "outputId": "03cc1468-6c22-4dd2-cda5-956ce2b7aa9a"
   },
   "outputs": [],
   "source": [
    "# number of rows and columns\n",
    "sonar_data.shape"
   ]
  },
  {
   "cell_type": "code",
   "execution_count": null,
   "metadata": {
    "colab": {
     "base_uri": "https://localhost:8080/",
     "height": 394
    },
    "executionInfo": {
     "elapsed": 1719,
     "status": "ok",
     "timestamp": 1689497778292,
     "user": {
      "displayName": "Krishna",
      "userId": "00979571457074635030"
     },
     "user_tz": -330
    },
    "id": "q6A1r9J-5aOJ",
    "outputId": "5e923191-e876-40b4-9b0e-b109a5a06b7b"
   },
   "outputs": [],
   "source": [
    "sonar_data.describe()  #describe --> statistical measures of the data"
   ]
  },
  {
   "cell_type": "code",
   "execution_count": null,
   "metadata": {
    "colab": {
     "base_uri": "https://localhost:8080/"
    },
    "executionInfo": {
     "elapsed": 1455,
     "status": "ok",
     "timestamp": 1689497785924,
     "user": {
      "displayName": "Krishna",
      "userId": "00979571457074635030"
     },
     "user_tz": -330
    },
    "id": "XFlxfDyk5o00",
    "outputId": "dc1ed997-fd09-4a00-b4a6-99e7f08c0267"
   },
   "outputs": [],
   "source": [
    "sonar_data[60].value_counts()"
   ]
  },
  {
   "cell_type": "markdown",
   "metadata": {
    "id": "_6RDFTc26aBI"
   },
   "source": [
    "M --> Mine\n",
    "\n",
    "R --> Rock"
   ]
  },
  {
   "cell_type": "code",
   "execution_count": null,
   "metadata": {
    "colab": {
     "base_uri": "https://localhost:8080/",
     "height": 237
    },
    "executionInfo": {
     "elapsed": 441,
     "status": "ok",
     "timestamp": 1689497790372,
     "user": {
      "displayName": "Krishna",
      "userId": "00979571457074635030"
     },
     "user_tz": -330
    },
    "id": "Uis1XlFs6M09",
    "outputId": "2e5b218f-cc84-47cb-b779-8cd172b1681e"
   },
   "outputs": [],
   "source": [
    "sonar_data.groupby(60).mean()"
   ]
  },
  {
   "cell_type": "code",
   "execution_count": null,
   "metadata": {
    "id": "qRShuFc46jLd"
   },
   "outputs": [],
   "source": [
    "# separating data and Labels\n",
    "X = sonar_data.drop(columns=60, axis=1)\n",
    "Y = sonar_data[60]"
   ]
  },
  {
   "cell_type": "code",
   "execution_count": null,
   "metadata": {
    "colab": {
     "base_uri": "https://localhost:8080/"
    },
    "executionInfo": {
     "elapsed": 27,
     "status": "ok",
     "timestamp": 1689497795343,
     "user": {
      "displayName": "Krishna",
      "userId": "00979571457074635030"
     },
     "user_tz": -330
    },
    "id": "mkRRrxIe7D7l",
    "outputId": "042da2b3-859a-4abb-e76f-ea9d5bf4f5e6"
   },
   "outputs": [],
   "source": [
    "print(X)\n",
    "print(Y)"
   ]
  },
  {
   "cell_type": "markdown",
   "metadata": {
    "id": "j912DrKe7L03"
   },
   "source": [
    "Training and Test data"
   ]
  },
  {
   "cell_type": "code",
   "execution_count": null,
   "metadata": {
    "id": "bTnEFld87GIr"
   },
   "outputs": [],
   "source": [
    "X_train, X_test, Y_train, Y_test = train_test_split(X, Y, test_size = 0.1, stratify=Y, random_state=1)"
   ]
  },
  {
   "cell_type": "code",
   "execution_count": null,
   "metadata": {
    "colab": {
     "base_uri": "https://localhost:8080/"
    },
    "executionInfo": {
     "elapsed": 12,
     "status": "ok",
     "timestamp": 1689497805899,
     "user": {
      "displayName": "Krishna",
      "userId": "00979571457074635030"
     },
     "user_tz": -330
    },
    "id": "ww4D1Ps379_h",
    "outputId": "bbe5255a-801d-409f-86be-27a6ae8dab33"
   },
   "outputs": [],
   "source": [
    "print(X.shape, X_train.shape, X_test.shape)"
   ]
  },
  {
   "cell_type": "code",
   "execution_count": null,
   "metadata": {
    "colab": {
     "base_uri": "https://localhost:8080/"
    },
    "executionInfo": {
     "elapsed": 12,
     "status": "ok",
     "timestamp": 1689497807447,
     "user": {
      "displayName": "Krishna",
      "userId": "00979571457074635030"
     },
     "user_tz": -330
    },
    "id": "KBvcm4eR8enA",
    "outputId": "6efe2162-8ed7-4bc8-b34e-73f4e7869f33"
   },
   "outputs": [],
   "source": [
    "print(X_train)\n",
    "print(Y_train)"
   ]
  },
  {
   "cell_type": "markdown",
   "metadata": {
    "id": "rKLgrLOx8LQx"
   },
   "source": [
    "Model Training --> Logistic Regression"
   ]
  },
  {
   "cell_type": "code",
   "execution_count": null,
   "metadata": {
    "id": "UoM3FhQS8FAw"
   },
   "outputs": [],
   "source": [
    "model = LogisticRegression()"
   ]
  },
  {
   "cell_type": "code",
   "execution_count": null,
   "metadata": {
    "colab": {
     "base_uri": "https://localhost:8080/",
     "height": 75
    },
    "executionInfo": {
     "elapsed": 16,
     "status": "ok",
     "timestamp": 1689497814895,
     "user": {
      "displayName": "Krishna",
      "userId": "00979571457074635030"
     },
     "user_tz": -330
    },
    "id": "GGomegF-8TPv",
    "outputId": "b87666ca-f2ef-4b75-ae20-ba1ca55b336e"
   },
   "outputs": [],
   "source": [
    "#training the Logistic Regression model with training data\n",
    "model.fit(X_train, Y_train)"
   ]
  },
  {
   "cell_type": "markdown",
   "metadata": {
    "id": "585vgP7b8vBn"
   },
   "source": [
    "Model Evaluation"
   ]
  },
  {
   "cell_type": "code",
   "execution_count": null,
   "metadata": {
    "id": "kCBykEtO8pLi"
   },
   "outputs": [],
   "source": [
    "#accuracy on training data\n",
    "X_train_prediction = model.predict(X_train)\n",
    "training_data_accuracy = accuracy_score(X_train_prediction, Y_train)"
   ]
  },
  {
   "cell_type": "code",
   "execution_count": null,
   "metadata": {
    "colab": {
     "base_uri": "https://localhost:8080/"
    },
    "executionInfo": {
     "elapsed": 563,
     "status": "ok",
     "timestamp": 1689497820662,
     "user": {
      "displayName": "Krishna",
      "userId": "00979571457074635030"
     },
     "user_tz": -330
    },
    "id": "50Wqy2Rc9nL1",
    "outputId": "59dc42c9-3eaa-46cd-a95b-5896b5e0db06"
   },
   "outputs": [],
   "source": [
    "print('Accuracy on training data : ', training_data_accuracy)"
   ]
  },
  {
   "cell_type": "code",
   "execution_count": null,
   "metadata": {
    "id": "RCUZ6MuR9tOV"
   },
   "outputs": [],
   "source": [
    "#accuracy on test data\n",
    "X_test_prediction = model.predict(X_test)\n",
    "test_data_accuracy = accuracy_score(X_test_prediction, Y_test)"
   ]
  },
  {
   "cell_type": "code",
   "execution_count": null,
   "metadata": {
    "colab": {
     "base_uri": "https://localhost:8080/"
    },
    "executionInfo": {
     "elapsed": 429,
     "status": "ok",
     "timestamp": 1689497826153,
     "user": {
      "displayName": "Krishna",
      "userId": "00979571457074635030"
     },
     "user_tz": -330
    },
    "id": "04AsqCrz99vU",
    "outputId": "96ae22d1-72c1-46f2-c28e-d6330ace71d6"
   },
   "outputs": [],
   "source": [
    "print('Accuracy on test data : ', test_data_accuracy)"
   ]
  },
  {
   "cell_type": "markdown",
   "metadata": {
    "id": "RKrIzmr8-K9s"
   },
   "source": [
    "Making a Predictive System"
   ]
  },
  {
   "cell_type": "code",
   "execution_count": null,
   "metadata": {
    "colab": {
     "base_uri": "https://localhost:8080/"
    },
    "executionInfo": {
     "elapsed": 631,
     "status": "ok",
     "timestamp": 1689497828622,
     "user": {
      "displayName": "Krishna",
      "userId": "00979571457074635030"
     },
     "user_tz": -330
    },
    "id": "NMp-UfOd-B7B",
    "outputId": "a5f9a2f5-4586-45a9-d5eb-3e48a1ae6201"
   },
   "outputs": [],
   "source": [
    "input_data = (0.0307,0.0523,0.0653,0.0521,0.0611,0.0577,0.0665,0.0664,0.1460,0.2792,0.3877,0.4992,0.4981,0.4972,0.5607,0.7339,0.8230,0.9173,0.9975,0.9911,0.8240,0.6498,0.5980,0.4862,0.3150,0.1543,0.0989,0.0284,0.1008,0.2636,0.2694,0.2930,0.2925,0.3998,0.3660,0.3172,0.4609,0.4374,0.1820,0.3376,0.6202,0.4448,0.1863,0.1420,0.0589,0.0576,0.0672,0.0269,0.0245,0.0190,0.0063,0.0321,0.0189,0.0137,0.0277,0.0152,0.0052,0.0121,0.0124,0.0055)\n",
    "\n",
    "# changing the input_data to a numpy array\n",
    "input_data_as_numpy_array = np.asarray(input_data)\n",
    "\n",
    "# reshape the np array as we are predicting for one instance\n",
    "input_data_reshaped = input_data_as_numpy_array.reshape(1,-1)\n",
    "\n",
    "prediction = model.predict(input_data_reshaped)\n",
    "print(prediction)\n",
    "\n",
    "if (prediction[0]=='R'):\n",
    "  print('The object is a Rock')\n",
    "else:\n",
    "  print('The object is a mine')"
   ]
  }
 ],
 "metadata": {
  "colab": {
   "provenance": [
    {
     "file_id": "16RXBs9nDtd9IKdM_K21ww6cnrd5Vjvtv",
     "timestamp": 1689497847508
    }
   ]
  },
  "kernelspec": {
   "display_name": "Python 3",
   "name": "python3"
  },
  "language_info": {
   "name": "python",
   "version": "3.12.8"
  }
 },
 "nbformat": 4,
 "nbformat_minor": 0
}
